{
 "cells": [
  {
   "cell_type": "markdown",
   "id": "fd46d070-739a-4e91-915b-a61ef0b3cd7d",
   "metadata": {},
   "source": [
    "### Documentation of Gallica Search API\n",
    "https://api.bnf.fr/api-gallica-de-recherche"
   ]
  },
  {
   "cell_type": "code",
   "execution_count": 2,
   "id": "6a0d0f34-7e55-4210-9ae5-2731d4d1d83a",
   "metadata": {},
   "outputs": [],
   "source": [
    "import requests\n",
    "import xml.etree.ElementTree as ET"
   ]
  },
  {
   "cell_type": "code",
   "execution_count": 4,
   "id": "daca34f3-c7f3-4674-bbe0-52870a0c44da",
   "metadata": {},
   "outputs": [],
   "source": [
    "BASE_URL = \"https://gallica.bnf.fr/SRU?operation=searchRetrieve&version=1.2&query={query}&suggest=0&startRecord={startRecord}&maximumRecords={maximumRecords}\"\n",
    "START_RECORD = 1\n",
    "MAXIMUM_RECORDS = 10 # by default, return the fisrt 10 results\n",
    "\n",
    "def format_query(query):\n",
    "    q = '%28gallica%20all%20%22'+'%20'.join(query.split())+'%22%29'\n",
    "    return BASE_URL.format(query=q,startRecord=START_RECORD,maximumRecords=MAXIMUM_RECORDS)\n",
    "\n",
    "def print_search_results(query):\n",
    "    response = requests.get(format_query(query))\n",
    "\n",
    "    if response.status_code == 200:\n",
    "        root = ET.fromstring(response.content)\n",
    "        \n",
    "        namespaces = {\n",
    "            'srw': 'http://www.loc.gov/zing/srw/',\n",
    "            'dc': 'http://purl.org/dc/elements/1.1/'\n",
    "        }\n",
    "        \n",
    "        # parse results returned by API\n",
    "        for record in root.findall('.//srw:record', namespaces):\n",
    "            title = record.find('.//dc:title', namespaces)\n",
    "            creator = record.find('.//dc:creator', namespaces)\n",
    "            ark = record.find('.//dc:identifier', namespaces)\n",
    "        \n",
    "            # print out metadata\n",
    "            print(\"Title:\", title.text if title is not None else \"N/A\")\n",
    "            print(\"Creator:\", creator.text if creator is not None else \"N/A\")\n",
    "            print(\"Ark:\", ark.text if ark is not None else \"N/A\")\n",
    "            print(\"-\" * 40)\n",
    "    else:\n",
    "        print(f\"Request failed with status code {response.status_code}\")"
   ]
  },
  {
   "cell_type": "code",
   "execution_count": 9,
   "id": "40c1f527-0861-470a-a770-9042aa854814",
   "metadata": {},
   "outputs": [
    {
     "name": "stdout",
     "output_type": "stream",
     "text": [
      "Title: Le Rouge et le noir / [directeur : Henri Lamblin] ; [secrétaire général : Pierre Leprohon]\n",
      "Creator: N/A\n",
      "Ark: https://gallica.bnf.fr/ark:/12148/cb32862970d/date\n",
      "----------------------------------------\n",
      "Title: Rouge et noir... (Bruxelles)\n",
      "Creator: N/A\n",
      "Ark: https://gallica.bnf.fr/ark:/12148/cb32862971r/date\n",
      "----------------------------------------\n",
      "Title: Le Rouge et le noir : chronique du XIXe siècle / par M. de Stendhal\n",
      "Creator: Stendhal (1783-1842). Auteur du texte\n",
      "Ark: https://gallica.bnf.fr/ark:/12148/btv1b8623298f\n",
      "----------------------------------------\n",
      "Title: Le rouge et le noir. Tome 2 / par M. de Stendhal (Henri Beyle)... ; eaux-fortes par H. Dubouchet ; préface de Léon Chapron...\n",
      "Creator: Stendhal (1783-1842). Auteur du texte\n",
      "Ark: https://gallica.bnf.fr/ark:/12148/bpt6k5728104q\n",
      "----------------------------------------\n",
      "Title: Le rouge et le noir : chronique du dix-neuvième siècle. T.1 / Stendhal ; [révision du texte et préf. par Henri Martineau]\n",
      "Creator: Stendhal (1783-1842). Auteur du texte\n",
      "Ark: https://gallica.bnf.fr/ark:/12148/bpt6k69020\n",
      "----------------------------------------\n",
      "Title: LE ROUGE ET LE NOIR ; LA CHANSON / LEGRAND (M.) et NOUGARO (Cl.). LA VIE S'EN VA / HOLMES (J.). LES NOCTAMBULES / FERRAT (J.), DELECLUSE (Cl.) et SENLIS (M.) ; COLOMBO (Pia)\n",
      "Creator: N/A\n",
      "Ark: https://gallica.bnf.fr/ark:/12148/bpt6k8833132m\n",
      "----------------------------------------\n",
      "Title: \"Le Rouge et le noir\", de Stendhal / par Michel Lichtlé,... et Jean Hartweg,...\n",
      "Creator: Lichtlé, Michel. Auteur du texte\n",
      "Ark: https://gallica.bnf.fr/ark:/12148/bpt6k3396096j\n",
      "----------------------------------------\n",
      "Title: \"Le Rouge et le noir\", Stendhal : résumé analytique, commentaire critique, documents complémentaires / Patrick Laudet\n",
      "Creator: Laudet, Patrick. Auteur du texte\n",
      "Ark: https://gallica.bnf.fr/ark:/12148/bpt6k3361199r\n",
      "----------------------------------------\n",
      "Title: [Tapisserie à fond losangé diapré, blanc, rouge et noir, sur laquelle est brodé un arbre portant une devise : \"Hic terminus haeret\"] : [dessin]\n",
      "Creator: N/A\n",
      "Ark: https://gallica.bnf.fr/ark:/12148/btv1b6937738q\n",
      "----------------------------------------\n",
      "Title: [Tapisserie à fond losangé-diapré, blanc, rouge et noir, sur laquelle est brodé un arbre portant une devise : \"Hic terminus haeret\"] : [dessin]\n",
      "Creator: N/A\n",
      "Ark: https://gallica.bnf.fr/ark:/12148/btv1b6937580m\n",
      "----------------------------------------\n"
     ]
    }
   ],
   "source": [
    "query = \"le rouge et le noir\" # segment query keywords by space\n",
    "print_search_results(query)"
   ]
  },
  {
   "cell_type": "code",
   "execution_count": null,
   "id": "d58a22d3-a0f3-427b-97db-73f7f32adbd0",
   "metadata": {},
   "outputs": [],
   "source": []
  }
 ],
 "metadata": {
  "kernelspec": {
   "display_name": "Python 3.12",
   "language": "python",
   "name": "python312"
  },
  "language_info": {
   "codemirror_mode": {
    "name": "ipython",
    "version": 3
   },
   "file_extension": ".py",
   "mimetype": "text/x-python",
   "name": "python",
   "nbconvert_exporter": "python",
   "pygments_lexer": "ipython3",
   "version": "3.12.8"
  }
 },
 "nbformat": 4,
 "nbformat_minor": 5
}
